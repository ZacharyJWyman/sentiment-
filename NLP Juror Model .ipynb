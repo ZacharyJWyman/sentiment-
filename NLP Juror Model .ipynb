{
 "cells": [
  {
   "cell_type": "code",
   "execution_count": 19,
   "metadata": {},
   "outputs": [],
   "source": [
    "#import required libraries\n",
    "import pandas as pd\n",
    "import numpy as np\n",
    "import tensorflow as tf\n",
    "import re"
   ]
  },
  {
   "cell_type": "code",
   "execution_count": 20,
   "metadata": {},
   "outputs": [],
   "source": [
    "data = pd.read_csv(r\"C:\\Users\\19712\\OneDrive\\Desktop\\NLP\\merged_data.csv\")\n",
    "data.drop('Unnamed: 0', axis = 1, inplace = True)"
   ]
  },
  {
   "cell_type": "code",
   "execution_count": 21,
   "metadata": {},
   "outputs": [],
   "source": [
    "#cleanup data\n",
    "text_clean = '@\\S+|https?:\\S|[^A-Za-z0-9]+'\n",
    "\n",
    "def clean_text(text, stem=False):\n",
    "    text = re.sub(text_clean, ' ', str(text).lower()).strip()\n",
    "    #text = tf.strings.substr(text, 0, 300) #restrict text size to 300 chars\n",
    "    \n",
    "    return text\n",
    "\n",
    "text = data['Text'].apply(lambda x: clean_text(x))\n",
    "data['Text'] = text"
   ]
  },
  {
   "cell_type": "code",
   "execution_count": 22,
   "metadata": {},
   "outputs": [],
   "source": [
    "from keras.preprocessing.text import Tokenizer\n",
    "\n",
    "tokenizer = Tokenizer()\n",
    "tokenizer.fit_on_texts(data['Text'])\n",
    "word_index = tokenizer.word_index\n",
    "vocab_size = len(tokenizer.word_index) + 1"
   ]
  },
  {
   "cell_type": "code",
   "execution_count": 23,
   "metadata": {},
   "outputs": [],
   "source": [
    "from sklearn.model_selection import train_test_split\n",
    "train_data, test_data = train_test_split(data, test_size = 0.2)"
   ]
  },
  {
   "cell_type": "code",
   "execution_count": 24,
   "metadata": {},
   "outputs": [],
   "source": [
    "max_len = np.max([len(text.split()) for text in train_data['Text']])\n",
    "\n",
    "from keras.preprocessing.sequence import pad_sequences\n",
    "\n",
    "X_train = pad_sequences(tokenizer.texts_to_sequences(train_data['Text']), \n",
    "                       maxlen = 500)\n",
    "\n",
    "X_test = pad_sequences(tokenizer.texts_to_sequences(test_data['Text']),\n",
    "                      maxlen = 500)"
   ]
  },
  {
   "cell_type": "code",
   "execution_count": 25,
   "metadata": {},
   "outputs": [],
   "source": [
    "from sklearn.preprocessing import OneHotEncoder, LabelEncoder\n",
    "\n",
    "encoder = LabelEncoder()\n",
    "encoder.fit(train_data['Sentiment'].to_list())\n",
    "\n",
    "y_train = encoder.transform(train_data['Sentiment'].to_list())\n",
    "y_test = encoder.transform(test_data['Sentiment'].to_list())\n",
    "\n",
    "y_train = y_train.reshape(-1,1)\n",
    "y_test = y_test.reshape(-1,1)"
   ]
  },
  {
   "cell_type": "code",
   "execution_count": 26,
   "metadata": {},
   "outputs": [],
   "source": [
    "GLOVE_EMB = r\"C:\\Users\\19712\\OneDrive\\Desktop\\NLP\\glove.840B.300d\\glove.840B.300d.txt\"\n",
    "GLOVE_DIM = 300"
   ]
  },
  {
   "cell_type": "code",
   "execution_count": 27,
   "metadata": {},
   "outputs": [],
   "source": [
    "embedding_index = {}\n",
    "\n",
    "f = open(GLOVE_EMB, encoding = 'utf-8')\n",
    "for line in f:\n",
    "    values = line.split()\n",
    "    word = ''.join(values[:-300])\n",
    "    coefs = np.asarray(values[-300:], dtype = 'float32')\n",
    "    embedding_index[word] = coefs\n",
    "f.close()"
   ]
  },
  {
   "cell_type": "code",
   "execution_count": 28,
   "metadata": {},
   "outputs": [],
   "source": [
    "embedding_matrix = np.zeros((vocab_size, GLOVE_DIM))\n",
    "for word, i in word_index.items():\n",
    "    embedding_vector = embedding_index.get(word)\n",
    "    if embedding_vector is not None:\n",
    "        embedding_matrix[i] = embedding_vector"
   ]
  },
  {
   "cell_type": "code",
   "execution_count": 29,
   "metadata": {},
   "outputs": [],
   "source": [
    "embedding_layer = tf.keras.layers.Embedding(vocab_size,\n",
    "                                           GLOVE_DIM,\n",
    "                                           weights = [embedding_matrix],\n",
    "                                           input_length = 500,\n",
    "                                           trainable = False)"
   ]
  },
  {
   "cell_type": "markdown",
   "metadata": {},
   "source": [
    "## LSTM Model"
   ]
  },
  {
   "cell_type": "code",
   "execution_count": 30,
   "metadata": {},
   "outputs": [],
   "source": [
    "# #counting most common words to speed up training time \n",
    "\n",
    "# from collections import Counter\n",
    "\n",
    "# vocabulary = Counter()\n",
    "# for text in data['Text']:\n",
    "#     word = text.split()\n",
    "#     for w in word:\n",
    "#         vocabulary.update(list(text))"
   ]
  },
  {
   "cell_type": "code",
   "execution_count": 31,
   "metadata": {},
   "outputs": [],
   "source": [
    "# vocabulary.most_common()[:20]"
   ]
  },
  {
   "cell_type": "code",
   "execution_count": 70,
   "metadata": {},
   "outputs": [],
   "source": [
    "from tensorflow.keras.layers import Conv1D, Bidirectional, LSTM, Dense, Input, Dropout\n",
    "from tensorflow.keras.layers import SpatialDropout1D\n",
    "from tensorflow.keras.callbacks import ModelCheckpoint"
   ]
  },
  {
   "cell_type": "code",
   "execution_count": 76,
   "metadata": {},
   "outputs": [
    {
     "data": {
      "text/plain": [
       "array([[1., 0., 0.],\n",
       "       [0., 0., 1.],\n",
       "       [0., 1., 0.],\n",
       "       ...,\n",
       "       [0., 0., 1.],\n",
       "       [1., 0., 0.],\n",
       "       [0., 0., 1.]], dtype=float32)"
      ]
     },
     "execution_count": 76,
     "metadata": {},
     "output_type": "execute_result"
    }
   ],
   "source": [
    "#onehot encode classifications \n",
    "from tensorflow.keras.utils import to_categorical\n",
    "\n",
    "y_train = to_categorical(y_train, 3)\n",
    "y_test = to_categorical(y_test, 3)"
   ]
  },
  {
   "cell_type": "code",
   "execution_count": 77,
   "metadata": {},
   "outputs": [],
   "source": [
    "sequence_input = Input(shape = (500,), dtype = 'int32')\n",
    "embedding_sequences = embedding_layer(sequence_input)\n",
    "x = SpatialDropout1D(0.2)(embedding_sequences)\n",
    "x = Conv1D(64, 5, activation = 'relu')(x)\n",
    "x = Bidirectional(LSTM(64, dropout = 0.2, recurrent_dropout = 0.2))(x)\n",
    "x = Dense(512, activation = 'relu')(x)\n",
    "x = Dropout(0.5)(x)\n",
    "x = Dense(512, activation = 'relu')(x)\n",
    "outputs = Dense(3, activation = 'softmax')(x)\n",
    "model = tf.keras.Model(sequence_input, outputs)"
   ]
  },
  {
   "cell_type": "code",
   "execution_count": 78,
   "metadata": {},
   "outputs": [],
   "source": [
    "LR = 0.001\n",
    "EPOCHS = 20\n",
    "BATCH_SIZE = 1024\n",
    "from tensorflow.keras.optimizers import Adam\n",
    "from tensorflow.keras.callbacks import ReduceLROnPlateau\n",
    "\n",
    "model.compile(optimizer = Adam(learning_rate = LR), loss = 'categorical_crossentropy',\n",
    "             metrics = ['accuracy'])\n",
    "\n",
    "ReduceLROnPlateau = ReduceLROnPlateau(factor = 0.1,\n",
    "                                     min_lr = 0.01,\n",
    "                                     monitor = 'val_loss',\n",
    "                                     verbose = 1)"
   ]
  },
  {
   "cell_type": "code",
   "execution_count": 79,
   "metadata": {},
   "outputs": [],
   "source": [
    "#subsets to see model performance\n",
    "X_train_sub, X_test_sub = X_train[:10000], X_test[:2000]\n",
    "y_train_sub, y_test_sub = y_train[:10000], y_test[:2000]"
   ]
  },
  {
   "cell_type": "code",
   "execution_count": 80,
   "metadata": {},
   "outputs": [],
   "source": [
    "#history = model.fit(X_train, y_train, batch_size = BATCH_SIZE, epochs = EPOCHS,\n",
    "                   #validation_data = (X_test, y_test), callbacks = [ReduceLROnPlateau])"
   ]
  },
  {
   "cell_type": "code",
   "execution_count": 82,
   "metadata": {},
   "outputs": [
    {
     "name": "stdout",
     "output_type": "stream",
     "text": [
      "Epoch 1/20\n",
      "10/10 [==============================] - 262s 26s/step - loss: 0.7622 - accuracy: 0.7619 - val_loss: 0.7216 - val_accuracy: 0.7710\n",
      "Epoch 2/20\n",
      "10/10 [==============================] - 356s 36s/step - loss: 0.6812 - accuracy: 0.7619 - val_loss: 0.6497 - val_accuracy: 0.7710\n",
      "Epoch 3/20\n",
      "10/10 [==============================] - 406s 41s/step - loss: 0.6456 - accuracy: 0.7619 - val_loss: 0.6045 - val_accuracy: 0.7710\n",
      "Epoch 4/20\n",
      "10/10 [==============================] - 449s 45s/step - loss: 0.6002 - accuracy: 0.7619 - val_loss: 0.5512 - val_accuracy: 0.7710\n",
      "Epoch 5/20\n",
      "10/10 [==============================] - 509s 51s/step - loss: 0.5734 - accuracy: 0.7709 - val_loss: 0.5153 - val_accuracy: 0.7930\n",
      "Epoch 6/20\n",
      "10/10 [==============================] - 872s 87s/step - loss: 0.5630 - accuracy: 0.7796 - val_loss: 0.5311 - val_accuracy: 0.7975\n",
      "Epoch 7/20\n",
      "10/10 [==============================] - 812s 81s/step - loss: 0.5281 - accuracy: 0.7900 - val_loss: 0.5141 - val_accuracy: 0.7915\n",
      "Epoch 8/20\n",
      "10/10 [==============================] - 607s 61s/step - loss: 0.5134 - accuracy: 0.7939 - val_loss: 0.4745 - val_accuracy: 0.8205\n",
      "Epoch 9/20\n",
      "10/10 [==============================] - 655s 65s/step - loss: 0.4881 - accuracy: 0.8045 - val_loss: 0.4552 - val_accuracy: 0.8240\n",
      "Epoch 10/20\n",
      "10/10 [==============================] - 680s 68s/step - loss: 0.4636 - accuracy: 0.8133 - val_loss: 0.4470 - val_accuracy: 0.8290\n",
      "Epoch 11/20\n",
      "10/10 [==============================] - 718s 72s/step - loss: 0.4409 - accuracy: 0.8266 - val_loss: 0.4309 - val_accuracy: 0.8350\n",
      "Epoch 12/20\n",
      "10/10 [==============================] - 764s 76s/step - loss: 0.4224 - accuracy: 0.8294 - val_loss: 0.4706 - val_accuracy: 0.8335\n",
      "Epoch 13/20\n",
      "10/10 [==============================] - 1113s 111s/step - loss: 0.4166 - accuracy: 0.8376 - val_loss: 0.4421 - val_accuracy: 0.8390\n",
      "Epoch 14/20\n",
      "10/10 [==============================] - 1190s 119s/step - loss: 0.3863 - accuracy: 0.8467 - val_loss: 0.4268 - val_accuracy: 0.8410\n",
      "Epoch 15/20\n",
      "10/10 [==============================] - 917s 92s/step - loss: 0.3772 - accuracy: 0.8547 - val_loss: 0.4417 - val_accuracy: 0.8290\n",
      "Epoch 16/20\n",
      "10/10 [==============================] - 1018s 102s/step - loss: 0.3458 - accuracy: 0.8685 - val_loss: 0.4277 - val_accuracy: 0.8405\n",
      "Epoch 17/20\n",
      "10/10 [==============================] - 1110s 111s/step - loss: 0.3175 - accuracy: 0.8786 - val_loss: 0.4384 - val_accuracy: 0.8320\n",
      "Epoch 18/20\n",
      "10/10 [==============================] - 1134s 113s/step - loss: 0.3058 - accuracy: 0.8803 - val_loss: 0.4710 - val_accuracy: 0.8400\n",
      "Epoch 19/20\n",
      "10/10 [==============================] - 1196s 120s/step - loss: 0.2883 - accuracy: 0.8881 - val_loss: 0.4608 - val_accuracy: 0.8195\n",
      "Epoch 20/20\n",
      "10/10 [==============================] - 1239s 124s/step - loss: 0.2689 - accuracy: 0.8971 - val_loss: 0.4578 - val_accuracy: 0.8345\n"
     ]
    }
   ],
   "source": [
    "history = model.fit(X_train_sub, y_train_sub, batch_size = BATCH_SIZE, epochs = EPOCHS,\n",
    "                   validation_data = (X_test_sub, y_test_sub), callbacks = [ReduceLROnPlateau])"
   ]
  },
  {
   "cell_type": "code",
   "execution_count": 83,
   "metadata": {},
   "outputs": [
    {
     "data": {
      "text/plain": [
       "<matplotlib.legend.Legend at 0x1a6b75a9310>"
      ]
     },
     "execution_count": 83,
     "metadata": {},
     "output_type": "execute_result"
    },
    {
     "data": {
      "image/png": "[encoded data removed]",
      "text/plain": [
       "<Figure size 432x288 with 2 Axes>"
      ]
     },
     "metadata": {
      "needs_background": "light"
     },
     "output_type": "display_data"
    }
   ],
   "source": [
    "import matplotlib.pyplot as plt\n",
    "\n",
    "s, (acc, loss) = plt.subplots(2,1)\n",
    "acc.plot(history.history['accuracy'], c = 'b', marker = 'o')\n",
    "acc.plot(history.history['val_accuracy'], c = 'r', marker = 'o')\n",
    "acc.set_title('Accuracy')\n",
    "acc.legend(['LSTM Train', 'LSTM Val'], loc = 'best')\n",
    "\n",
    "loss.plot(history.history['loss'], c = 'b', marker = 'o')\n",
    "loss.plot(history.history['val_loss'], c = 'r', marker = 'o')\n",
    "loss.set_title('Loss')\n",
    "loss.legend(['Train Loss', 'Val Loss'], loc = 'best')"
   ]
  },
  {
   "cell_type": "markdown",
   "metadata": {},
   "source": [
    "Diminishing returns around 10 epochs."
   ]
  },
  {
   "cell_type": "code",
   "execution_count": 84,
   "metadata": {},
   "outputs": [
    {
     "name": "stdout",
     "output_type": "stream",
     "text": [
      "67/67 [==============================] - 1514s 23s/step\n"
     ]
    }
   ],
   "source": [
    "scores = model.predict(X_test, verbose = 1, batch_size = 1000)"
   ]
  },
  {
   "cell_type": "code",
   "execution_count": 182,
   "metadata": {},
   "outputs": [],
   "source": [
    "y_pred = np.argmax(scores,axis=1).reshape(-1,1)"
   ]
  },
  {
   "cell_type": "code",
   "execution_count": 139,
   "metadata": {},
   "outputs": [
    {
     "data": {
      "text/plain": [
       "array(['negative', 'neutral', 'positive'], dtype='<U8')"
      ]
     },
     "execution_count": 139,
     "metadata": {},
     "output_type": "execute_result"
    }
   ],
   "source": [
    "#Probability that corresponds to each class \n",
    "classes = encoder.classes_"
   ]
  },
  {
   "cell_type": "code",
   "execution_count": 191,
   "metadata": {},
   "outputs": [],
   "source": [
    "y_test_compare = np.argmax(y_test, axis = 1).reshape(-1,1)"
   ]
  },
  {
   "cell_type": "code",
   "execution_count": 194,
   "metadata": {},
   "outputs": [],
   "source": [
    "def plot_confusion_matrix(cm,\n",
    "                          target_names,\n",
    "                          title='Confusion matrix',\n",
    "                          cmap=None,\n",
    "                          normalize=True):\n",
    "    import itertools\n",
    "\n",
    "    accuracy = np.trace(cm) / float(np.sum(cm))\n",
    "    misclass = 1 - accuracy\n",
    "\n",
    "    if cmap is None:\n",
    "        cmap = plt.get_cmap('Blues')\n",
    "\n",
    "    plt.figure(figsize=(8, 6))\n",
    "    plt.imshow(cm, interpolation='nearest', cmap=cmap)\n",
    "    plt.title(title)\n",
    "    plt.colorbar()\n",
    "\n",
    "    if target_names is not None:\n",
    "        tick_marks = np.arange(len(target_names))\n",
    "        plt.xticks(tick_marks, target_names, rotation=45)\n",
    "        plt.yticks(tick_marks, target_names)\n",
    "\n",
    "    if normalize:\n",
    "        cm = cm.astype('float') / cm.sum(axis=1)[:, np.newaxis]\n",
    "\n",
    "\n",
    "    thresh = cm.max() / 1.5 if normalize else cm.max() / 2\n",
    "    for i, j in itertools.product(range(cm.shape[0]), range(cm.shape[1])):\n",
    "        if normalize:\n",
    "            plt.text(j, i, \"{:0.4f}\".format(cm[i, j]),\n",
    "                     horizontalalignment=\"center\",\n",
    "                     color=\"white\" if cm[i, j] > thresh else \"black\")\n",
    "        else:\n",
    "            plt.text(j, i, \"{:,}\".format(cm[i, j]),\n",
    "                     horizontalalignment=\"center\",\n",
    "                     color=\"white\" if cm[i, j] > thresh else \"black\")\n",
    "\n",
    "\n",
    "    plt.tight_layout()\n",
    "    plt.ylabel('True label')\n",
    "    plt.xlabel('Predicted label\\naccuracy={:0.4f}; misclass={:0.4f}'.format(accuracy, misclass))\n",
    "    plt.show()"
   ]
  },
  {
   "cell_type": "code",
   "execution_count": 195,
   "metadata": {},
   "outputs": [
    {
     "data": {
      "image/png": "[encoded data removed]",
      "text/plain": [
       "<Figure size 576x432 with 2 Axes>"
      ]
     },
     "metadata": {
      "needs_background": "light"
     },
     "output_type": "display_data"
    }
   ],
   "source": [
    "plot_confusion_matrix(cm           = np.array([[ 2800,  1675,   928],\n",
    "                                              [  806,  5610,  3883],\n",
    "                                              [  621,  3350, 46614]]), \n",
    "                      normalize    = False,\n",
    "                      target_names = ['negative', 'neutral', 'positive'],\n",
    "                      title        = \"Confusion Matrix\")"
   ]
  },
  {
   "cell_type": "code",
   "execution_count": 193,
   "metadata": {},
   "outputs": [
    {
     "data": {
      "text/plain": [
       "array([[ 2800,  1675,   928],\n",
       "       [  806,  5610,  3883],\n",
       "       [  621,  3350, 46614]], dtype=int64)"
      ]
     },
     "execution_count": 193,
     "metadata": {},
     "output_type": "execute_result"
    }
   ],
   "source": [
    "from sklearn.metrics import confusion_matrix\n",
    "confusion_matrix(y_test_compare, y_pred)"
   ]
  }
 ],
 "metadata": {
  "kernelspec": {
   "display_name": "Python 3",
   "language": "python",
   "name": "python3"
  },
  "language_info": {
   "codemirror_mode": {
    "name": "ipython",
    "version": 3
   },
   "file_extension": ".py",
   "mimetype": "text/x-python",
   "name": "python",
   "nbconvert_exporter": "python",
   "pygments_lexer": "ipython3",
   "version": "3.8.3"
  }
 },
 "nbformat": 4,
 "nbformat_minor": 4
}
